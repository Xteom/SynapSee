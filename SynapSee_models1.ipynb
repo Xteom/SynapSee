{
 "cells": [
  {
   "cell_type": "markdown",
   "metadata": {},
   "source": [
    "# Models 1\n",
    "Here we will explore the dataset, the dataloader and create the first model."
   ]
  },
  {
   "cell_type": "markdown",
   "metadata": {},
   "source": [
    "## Dataset"
   ]
  },
  {
   "cell_type": "code",
   "execution_count": 1,
   "metadata": {},
   "outputs": [],
   "source": [
    "import json\n",
    "import torch\n",
    "from torch.utils.data import Dataset, DataLoader\n",
    "import matplotlib.pyplot as plt"
   ]
  },
  {
   "cell_type": "code",
   "execution_count": 2,
   "metadata": {},
   "outputs": [],
   "source": [
    "class EEGDataset(Dataset):\n",
    "    # Define a mapping from class labels to integers as a class attribute\n",
    "    class_mapping = {'cat': 0, 'dog': 1, 'rabbit': 2, 'control': 3}\n",
    "\n",
    "    def __init__(self, json_file, SEGMENT_LENGTH=123):\n",
    "        with open(json_file, 'r') as file:\n",
    "            data = json.load(file)\n",
    "\n",
    "        self.data = []\n",
    "        for subject in data['subjects']:\n",
    "            for image in subject['view_images']:\n",
    "                image_class = image['class']\n",
    "\n",
    "                # Exclude samples with class 'no_stimuli'\n",
    "                if image_class == 'no_stimuli':\n",
    "                    continue\n",
    "\n",
    "                # Map the class label to an integer\n",
    "                class_int = self.class_mapping.get(image_class, -1)  # Default to -1 for unknown classes\n",
    "\n",
    "                eeg_signal = image['EEG_signal']\n",
    "                # Segment the EEG signal\n",
    "                for i in range(0, len(eeg_signal), SEGMENT_LENGTH):\n",
    "                    segment = eeg_signal[i:i + SEGMENT_LENGTH]\n",
    "                    if len(segment) == SEGMENT_LENGTH:\n",
    "                        self.data.append({\n",
    "                            \"subject\": subject['name'],\n",
    "                            \"EEG_signal\": segment,\n",
    "                            \"class\": class_int,  # Use the integer label\n",
    "                            \"age\": subject['age'],\n",
    "                            \"sex\": subject['sex'],\n",
    "                            \"has_cat\": subject['has_cat'],\n",
    "                            \"has_dog\": subject['has_dog'],\n",
    "                            \"has_rabbit\": subject['has_rabbit']\n",
    "                        })\n",
    "\n",
    "    def __len__(self):\n",
    "        return len(self.data)\n",
    "\n",
    "    def __getitem__(self, idx):\n",
    "        item = self.data[idx]\n",
    "        eeg_signal = torch.tensor(item['EEG_signal'], dtype=torch.float)\n",
    "        return {\n",
    "            \"eeg_signal\": eeg_signal,\n",
    "            \"class\": item['class'],\n",
    "            \"subject\": item['subject'],\n",
    "            \"age\": item['age'],\n",
    "            \"sex\": item['sex'],\n",
    "            \"has_cat\": item['has_cat'],\n",
    "            \"has_dog\": item['has_dog'],\n",
    "            \"has_rabbit\": item['has_rabbit']\n",
    "        }\n",
    "\n",
    "# Access class_mapping\n",
    "# print(EEGDataset.class_mapping)\n"
   ]
  },
  {
   "cell_type": "code",
   "execution_count": 3,
   "metadata": {},
   "outputs": [],
   "source": [
    "# Dataset object\n",
    "eeg_dataset = EEGDataset('SynapSee_data.json')\n"
   ]
  },
  {
   "cell_type": "code",
   "execution_count": 6,
   "metadata": {},
   "outputs": [
    {
     "name": "stdout",
     "output_type": "stream",
     "text": [
      "Class mapping: {'cat': 0, 'dog': 1, 'rabbit': 2, 'control': 3}\n",
      "Number of samples: 4729\n",
      "Sample keys: dict_keys(['eeg_signal', 'class', 'subject', 'age', 'sex', 'has_cat', 'has_dog', 'has_rabbit'])\n",
      "Sample signal shape: torch.Size([123, 16])\n"
     ]
    },
    {
     "data": {
      "text/plain": [
       "{'eeg_signal': tensor([[ 60780.4727,   9003.2158, -19887.7773,  ..., -38451.0820,\n",
       "           -3099.1140, -34363.0117],\n",
       "         [ 60772.3828,   9008.8262, -19882.9727,  ..., -38440.1289,\n",
       "           -3101.8411, -34357.3125],\n",
       "         [ 60769.4766,   9000.1533, -19889.0293,  ..., -38432.7305,\n",
       "           -3090.0168, -34359.3711],\n",
       "         ...,\n",
       "         [ 60713.1953,   9093.6953, -19860.8438,  ..., -38357.6055,\n",
       "           -3114.9167, -34372.0000],\n",
       "         [ 60706.0859,   9085.2021, -19861.6699,  ..., -38351.2344,\n",
       "           -3103.6738, -34365.5820],\n",
       "         [ 60706.1992,   9089.7168, -19861.0898,  ..., -38351.2344,\n",
       "           -3108.4795, -34365.9844]]),\n",
       " 'class': 0,\n",
       " 'subject': 'dani',\n",
       " 'age': 22,\n",
       " 'sex': 1,\n",
       " 'has_cat': False,\n",
       " 'has_dog': True,\n",
       " 'has_rabbit': False}"
      ]
     },
     "execution_count": 6,
     "metadata": {},
     "output_type": "execute_result"
    }
   ],
   "source": [
    "print(\"Class mapping:\", eeg_dataset.class_mapping)\n",
    "print(\"Number of samples:\", len(eeg_dataset))\n",
    "print(\"Sample keys:\", eeg_dataset[0].keys())\n",
    "print(\"Sample signal shape:\", eeg_dataset[0]['eeg_signal'].shape)\n",
    "eeg_dataset[0]"
   ]
  },
  {
   "cell_type": "code",
   "execution_count": 7,
   "metadata": {},
   "outputs": [],
   "source": [
    "from sklearn.model_selection import train_test_split\n",
    "\n",
    "# Assume 'labels' is a list of labels for stratification (e.g., classes of EEG data)\n",
    "labels = [item['class'] for item in eeg_dataset.data]\n",
    "\n",
    "# Split the indices of your dataset\n",
    "train_indices, val_indices = train_test_split(\n",
    "    range(len(eeg_dataset)),\n",
    "    test_size=0.2,  # 20% for validation\n",
    "    stratify=labels,\n",
    "    random_state=420  # For reproducibility\n",
    ")\n",
    "\n",
    "# Creating subsets for training and validation\n",
    "train_subset = torch.utils.data.Subset(eeg_dataset, train_indices)\n",
    "val_subset = torch.utils.data.Subset(eeg_dataset, val_indices)\n",
    "\n"
   ]
  },
  {
   "cell_type": "code",
   "execution_count": 8,
   "metadata": {},
   "outputs": [
    {
     "data": {
      "text/plain": [
       "{'eeg_signal': tensor([[ 23128.1543,  14883.5801, -53514.9922,  ..., -58291.4062,\n",
       "          -33851.9180, -54510.7852],\n",
       "         [ 23104.7520,  14880.2715, -53523.5547,  ..., -58365.1641,\n",
       "          -33897.5820, -54539.2617],\n",
       "         [ 23052.0469,  14823.1406, -53593.6719,  ..., -58346.2344,\n",
       "          -33885.0664, -54539.9102],\n",
       "         ...,\n",
       "         [ 22315.1543,  14145.4355, -54425.6484,  ..., -59367.5078,\n",
       "          -34564.7617, -55369.2734],\n",
       "         [ 22316.3398,  14131.9131, -54444.9609,  ..., -59332.7734,\n",
       "          -34487.5117, -55339.3438],\n",
       "         [ 22292.5352,  14124.3359, -54450.0352,  ..., -59392.6758,\n",
       "          -34560.0664, -55375.3516]]),\n",
       " 'class': 1,\n",
       " 'subject': 'pato',\n",
       " 'age': 22,\n",
       " 'sex': 1,\n",
       " 'has_cat': True,\n",
       " 'has_dog': True,\n",
       " 'has_rabbit': False}"
      ]
     },
     "execution_count": 8,
     "metadata": {},
     "output_type": "execute_result"
    }
   ],
   "source": [
    "train_subset[0]\n"
   ]
  },
  {
   "cell_type": "code",
   "execution_count": 9,
   "metadata": {},
   "outputs": [
    {
     "name": "stdout",
     "output_type": "stream",
     "text": [
      "Training set class counts: {1: 948, 2: 946, 0: 949, 3: 940}\n",
      "Validation set class counts: {0: 237, 3: 235, 1: 237, 2: 237}\n",
      "Training set class percentages:\n",
      "1: 25.1%\n",
      "2: 25.0%\n",
      "0: 25.1%\n",
      "3: 24.8%\n",
      "Validation set class percentages:\n",
      "0: 25.1%\n",
      "3: 24.8%\n",
      "1: 25.1%\n",
      "2: 25.1%\n"
     ]
    },
    {
     "data": {
      "image/png": "[encoded data removed]",
      "text/plain": [
       "<Figure size 1000x500 with 2 Axes>"
      ]
     },
     "metadata": {},
     "output_type": "display_data"
    }
   ],
   "source": [
    "def count_classes(dataset):\n",
    "    \"\"\" Count the occurrences of each class in the dataset. \"\"\"\n",
    "    class_counts = {}\n",
    "    for item in dataset:\n",
    "        label = item['class']\n",
    "        if label in class_counts:\n",
    "            class_counts[label] += 1\n",
    "        else:\n",
    "            class_counts[label] = 1\n",
    "    return class_counts\n",
    "\n",
    "# Count classes in each subset\n",
    "train_class_counts = count_classes(train_subset)\n",
    "val_class_counts = count_classes(val_subset)\n",
    "\n",
    "# print counts\n",
    "print(\"Training set class counts:\", train_class_counts)\n",
    "print(\"Validation set class counts:\", val_class_counts)\n",
    "\n",
    "# print percentages\n",
    "print(\"Training set class percentages:\")\n",
    "for label, count in train_class_counts.items():\n",
    "    print(f\"{label}: {count / len(train_subset):.1%}\")\n",
    "print(\"Validation set class percentages:\")\n",
    "for label, count in val_class_counts.items():\n",
    "    print(f\"{label}: {count / len(val_subset):.1%}\")\n",
    "\n",
    "\n",
    "# Plot the class distributions\n",
    "plt.figure(figsize=(10, 5))\n",
    "plt.subplot(1, 2, 1)\n",
    "plt.bar(train_class_counts.keys(), train_class_counts.values())\n",
    "plt.title('Training set')\n",
    "plt.xlabel('Class')\n",
    "plt.ylabel('Count')\n",
    "plt.subplot(1, 2, 2)\n",
    "plt.bar(val_class_counts.keys(), val_class_counts.values())\n",
    "plt.title('Validation set')\n",
    "plt.xlabel('Class')\n",
    "plt.ylabel('Count')\n",
    "plt.show()\n",
    "\n"
   ]
  },
  {
   "cell_type": "markdown",
   "metadata": {},
   "source": [
    "## DataLoader"
   ]
  },
  {
   "cell_type": "code",
   "execution_count": 10,
   "metadata": {},
   "outputs": [],
   "source": [
    "batch_size = 10"
   ]
  },
  {
   "cell_type": "code",
   "execution_count": 11,
   "metadata": {},
   "outputs": [
    {
     "name": "stdout",
     "output_type": "stream",
     "text": [
      "EEG signal shape: torch.Size([10, 123, 16])\n",
      "Classes: tensor([2, 3, 2, 2, 2, 1, 0, 1, 3, 1]) 10\n"
     ]
    }
   ],
   "source": [
    "# DataLoader object\n",
    "data_loader = DataLoader(eeg_dataset, batch_size=batch_size, shuffle=True)\n",
    "\n",
    "# DataLoader object for training\n",
    "for batch in data_loader:\n",
    "    # Extrae los datos de cada batch\n",
    "    eeg_signals = batch['eeg_signal']  # This will be a tensor\n",
    "    classes = batch['class']  \n",
    "    print(\"EEG signal shape:\", eeg_signals.shape)\n",
    "    print(\"Classes:\", classes, len(classes))\n",
    "    break\n"
   ]
  },
  {
   "cell_type": "code",
   "execution_count": 12,
   "metadata": {},
   "outputs": [
    {
     "name": "stdout",
     "output_type": "stream",
     "text": [
      "Number of batches in DataLoader: 473\n",
      "Batch size: 10\n"
     ]
    }
   ],
   "source": [
    "# Explore the DataLoader object\n",
    "print(\"Number of batches in DataLoader:\", len(data_loader))\n",
    "print(\"Batch size:\", data_loader.batch_size)\n"
   ]
  },
  {
   "cell_type": "code",
   "execution_count": 13,
   "metadata": {},
   "outputs": [
    {
     "name": "stdout",
     "output_type": "stream",
     "text": [
      "Type of the batch: <class 'dict'>\n",
      "Keys in the batch: dict_keys(['eeg_signal', 'class', 'subject', 'age', 'sex', 'has_cat', 'has_dog', 'has_rabbit'])\n",
      "Shape of eeg_signal: torch.Size([10, 123, 16])\n",
      "Shape of class: torch.Size([10])\n",
      "subject contains: ['pato', 'mateo', 'pato', 'pato', 'pato', 'pato', 'mateo', 'pato', 'muri', 'pato']\n",
      "Shape of age: torch.Size([10])\n",
      "Shape of sex: torch.Size([10])\n",
      "Shape of has_cat: torch.Size([10])\n",
      "Shape of has_dog: torch.Size([10])\n",
      "Shape of has_rabbit: torch.Size([10])\n"
     ]
    }
   ],
   "source": [
    "# Fetch the first batch\n",
    "one_batch = next(iter(data_loader))\n",
    "\n",
    "# Print the type and structure of the batch\n",
    "print(\"Type of the batch:\", type(one_batch))\n",
    "print(\"Keys in the batch:\", one_batch.keys())\n",
    "\n",
    "# Print the shape of each item in the batch\n",
    "for key in one_batch.keys():\n",
    "    try:\n",
    "        print(f\"Shape of {key}:\", one_batch[key].shape)\n",
    "    except AttributeError:\n",
    "        # In case it's not a tensor and doesn't have a shape attribute\n",
    "        print(f\"{key} contains:\", one_batch[key])\n"
   ]
  },
  {
   "cell_type": "code",
   "execution_count": 14,
   "metadata": {},
   "outputs": [],
   "source": [
    "del data_loader, one_batch"
   ]
  },
  {
   "cell_type": "code",
   "execution_count": 15,
   "metadata": {},
   "outputs": [],
   "source": [
    "# Create DataLoaders for training and validation sets\n",
    "# train loader is shuffled to avoid overfitting\n",
    "train_loader = DataLoader(train_subset, batch_size=batch_size, shuffle=True)\n",
    "# validation loader is not shuffled cause is used for evaluation\n",
    "val_loader = DataLoader(val_subset, batch_size=batch_size, shuffle=False)"
   ]
  },
  {
   "cell_type": "code",
   "execution_count": 16,
   "metadata": {},
   "outputs": [],
   "source": [
    "import torch\n",
    "import torch.nn as nn\n",
    "import torch.nn.functional as F\n",
    "\n",
    "class EEGConv(nn.Module):\n",
    "    def __init__(self, num_classes=4):\n",
    "        super(EEGConv, self).__init__()\n",
    "        \n",
    "        input_channels = 16  # Adjust this if the number of channels is different\n",
    "        self.conv1 = nn.Conv1d(in_channels=input_channels, out_channels=64, kernel_size=3)\n",
    "\n",
    "        # Assume some flattening and reduction happen after convolution\n",
    "        # The number 123 - 2 is based on the convolution operation without padding\n",
    "        conv_output_size = (123 - 2) * 64  \n",
    "\n",
    "        # First fully connected layer\n",
    "        self.fc1 = nn.Linear(conv_output_size, 128)  # 128 is an example size\n",
    "\n",
    "        # Second fully connected layer\n",
    "        self.fc2 = nn.Linear(128, 64)  # 64 is an example size\n",
    "\n",
    "        # Final classifier layer\n",
    "        self.classifier = nn.Linear(64, num_classes)\n",
    "\n",
    "    def forward(self, x):\n",
    "\n",
    "        # N is the batch size\n",
    "        # C is the number of channels\n",
    "        # L is the length of the signal sequence\n",
    "\n",
    "        # EEG signal shape: torch.Size([10, 123, 16])\n",
    "        # N: 10 is the batch size\n",
    "        # L: 123 is the length of the signal sequence\n",
    "        # C: 16 is the number of channels\n",
    "\n",
    "        # Since we need to match the input to (N, C, L) format expected by nn.Conv1d,\n",
    "        # we need to transpose the input\n",
    "        x = x.transpose(1, 2)  # Transpose the 2nd and 3rd dimension\n",
    "\n",
    "        # Apply the first convolutional layer\n",
    "        x = F.relu(self.conv1(x))\n",
    "\n",
    "        # Flatten the output for the fully connected layers\n",
    "        # x.view() is similar to numpy.reshape()\n",
    "        # The -1 is a placeholder for an inferred dimension\n",
    "        x = x.view(x.size(0), -1)\n",
    "\n",
    "        # Apply the first fully connected layer\n",
    "        x = F.relu(self.fc1(x))\n",
    "\n",
    "        # Apply the second fully connected layer\n",
    "        x = F.relu(self.fc2(x))\n",
    "\n",
    "        # Apply the classifier\n",
    "        x = self.classifier(x)\n",
    "\n",
    "        return x\n",
    "\n",
    "# Example usage\n",
    "# model = EEGNet(num_classes=4)\n",
    "# output = model(eeg_signal)  # eeg_signal should be a batch from your DataLoader\n"
   ]
  },
  {
   "cell_type": "code",
   "execution_count": 17,
   "metadata": {},
   "outputs": [
    {
     "name": "stdout",
     "output_type": "stream",
     "text": [
      "Device: cuda\n"
     ]
    }
   ],
   "source": [
    "import torch.optim as optim\n",
    "\n",
    "device = torch.device(\"cuda\" if torch.cuda.is_available() else \"cpu\")\n",
    "print(\"Device:\", device)\n",
    "model = EEGConv(num_classes=4).to(device)\n",
    "\n",
    "# Loss function\n",
    "criterion = nn.CrossEntropyLoss()\n",
    "\n",
    "# Optimizer (example: using Adam)\n",
    "optimizer = optim.Adam(model.parameters(), lr=0.001)\n"
   ]
  },
  {
   "cell_type": "code",
   "execution_count": 18,
   "metadata": {},
   "outputs": [
    {
     "name": "stdout",
     "output_type": "stream",
     "text": [
      "Epoch [1/1000], Train Loss: 244.6216, Validation Loss: 5.0608, Validation Accuracy: 0.2706\n",
      "Epoch [2/1000], Train Loss: 2.0307, Validation Loss: 1.5038, Validation Accuracy: 0.2696\n",
      "Epoch [3/1000], Train Loss: 1.4488, Validation Loss: 1.3441, Validation Accuracy: 0.2791\n",
      "Epoch [4/1000], Train Loss: 1.3671, Validation Loss: 1.3574, Validation Accuracy: 0.2643\n",
      "Epoch [5/1000], Train Loss: 1.5244, Validation Loss: 1.3728, Validation Accuracy: 0.2738\n",
      "Epoch [6/1000], Train Loss: 1.3969, Validation Loss: 1.3875, Validation Accuracy: 0.2600\n",
      "Epoch [7/1000], Train Loss: 1.3852, Validation Loss: 3.0223, Validation Accuracy: 0.2526\n",
      "Epoch [8/1000], Train Loss: 1.4538, Validation Loss: 1.3839, Validation Accuracy: 0.2526\n",
      "Epoch [9/1000], Train Loss: 1.3835, Validation Loss: 1.3823, Validation Accuracy: 0.2579\n",
      "Epoch [10/1000], Train Loss: 1.3863, Validation Loss: 1.3876, Validation Accuracy: 0.2495\n",
      "Epoch [11/1000], Train Loss: 1.3867, Validation Loss: 1.3875, Validation Accuracy: 0.2505\n",
      "Epoch [12/1000], Train Loss: 1.3876, Validation Loss: 1.3859, Validation Accuracy: 0.2495\n",
      "Early stopping triggered\n"
     ]
    }
   ],
   "source": [
    "num_epochs = 1000  # Number of epochs, adjust as needed\n",
    "\n",
    "# Lists to keep track of training progress\n",
    "train_losses = []\n",
    "val_losses = []\n",
    "val_accuracies = []\n",
    "\n",
    "# Early stopping parameters\n",
    "patience = 10  # Number of epochs to wait for improvement before stopping\n",
    "best_val_loss = float('inf')\n",
    "epochs_no_improve = 0\n",
    "\n",
    "for epoch in range(num_epochs):\n",
    "    # Training phase\n",
    "    model.train()  # Set the model to training mode\n",
    "    total_train_loss = 0\n",
    "\n",
    "    for batch in train_loader:\n",
    "        # Get data to cuda if possible\n",
    "        eeg_signals = batch['eeg_signal'].to(device)\n",
    "        targets = batch['class'].to(device)\n",
    "\n",
    "        # Forward pass\n",
    "        outputs = model(eeg_signals)\n",
    "        loss = criterion(outputs, targets)\n",
    "\n",
    "        # Backward and optimize\n",
    "        optimizer.zero_grad()\n",
    "        loss.backward()\n",
    "        optimizer.step()\n",
    "\n",
    "        total_train_loss += loss.item()\n",
    "\n",
    "    avg_train_loss = total_train_loss / len(train_loader)\n",
    "\n",
    "    # Validation phase\n",
    "    model.eval()  # Set the model to evaluation mode\n",
    "    total_val_loss = 0\n",
    "    correct = 0\n",
    "    total = 0\n",
    "\n",
    "    # We don't need to track gradients during validation\n",
    "    with torch.no_grad():\n",
    "        for batch in val_loader:\n",
    "            eeg_signals = batch['eeg_signal'].to(device)\n",
    "            targets = batch['class'].to(device)\n",
    "\n",
    "            # Forward pass\n",
    "            outputs = model(eeg_signals)\n",
    "            loss = criterion(outputs, targets)\n",
    "            total_val_loss += loss.item()\n",
    "\n",
    "            # To calculate accuracy\n",
    "            # torch.max returns the maximum value and its index\n",
    "            # Since the index is what we want, we can ignore the maximum value\n",
    "            # basically, we are extracting the predicted class index for each sample\n",
    "            # index because the index is equal to the class\n",
    "            _, predicted = torch.max(outputs.data, 1)\n",
    "            # total number of samples\n",
    "            total += targets.size(0)\n",
    "            # total correct predictions\n",
    "            correct += (predicted == targets).sum().item()\n",
    "\n",
    "    avg_val_loss = total_val_loss / len(val_loader)\n",
    "    val_accuracy = correct / total\n",
    "\n",
    "    # Save losses and accuracy to plot later\n",
    "    train_losses.append(avg_train_loss)\n",
    "    val_losses.append(avg_val_loss)\n",
    "    val_accuracies.append(val_accuracy)\n",
    "\n",
    "    # Early Stopping Check\n",
    "    if avg_val_loss < best_val_loss:\n",
    "        best_val_loss = avg_val_loss\n",
    "        epochs_no_improve = 0\n",
    "    else:\n",
    "        epochs_no_improve += 1\n",
    "\n",
    "    # Check if early stopping is needed\n",
    "    if epochs_no_improve == patience:\n",
    "        print(\"Early stopping triggered\")\n",
    "        break\n",
    "    \n",
    "    # Print statistics\n",
    "    print(f\"Epoch [{epoch+1}/{num_epochs}], Train Loss: {avg_train_loss:.4f}, Validation Loss: {avg_val_loss:.4f}, Validation Accuracy: {val_accuracy:.4f}\")\n",
    "    \n"
   ]
  },
  {
   "cell_type": "code",
   "execution_count": 19,
   "metadata": {},
   "outputs": [
    {
     "data": {
      "image/png": "[encoded data removed]",
      "text/plain": [
       "<Figure size 1200x500 with 2 Axes>"
      ]
     },
     "metadata": {},
     "output_type": "display_data"
    }
   ],
   "source": [
    "# Plotting training and validation losses\n",
    "plt.figure(figsize=(12, 5))\n",
    "plt.subplot(1, 2, 1)\n",
    "plt.plot(train_losses, label='Training Loss')\n",
    "plt.plot(val_losses, label='Validation Loss')\n",
    "plt.title('Training and Validation Loss')\n",
    "plt.xlabel('Epoch')\n",
    "plt.ylabel('Loss')\n",
    "plt.legend()\n",
    "\n",
    "# Plotting validation accuracy\n",
    "plt.subplot(1, 2, 2)\n",
    "plt.plot(val_accuracies, label='Validation Accuracy')\n",
    "plt.title('Validation Accuracy')\n",
    "plt.xlabel('Epoch')\n",
    "plt.ylabel('Accuracy')\n",
    "plt.legend()\n",
    "\n",
    "plt.show()"
   ]
  }
 ],
 "metadata": {
  "kernelspec": {
   "display_name": "neurolab",
   "language": "python",
   "name": "python3"
  },
  "language_info": {
   "codemirror_mode": {
    "name": "ipython",
    "version": 3
   },
   "file_extension": ".py",
   "mimetype": "text/x-python",
   "name": "python",
   "nbconvert_exporter": "python",
   "pygments_lexer": "ipython3",
   "version": "3.10.13"
  }
 },
 "nbformat": 4,
 "nbformat_minor": 2
}
