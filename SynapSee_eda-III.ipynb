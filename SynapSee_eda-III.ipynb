{
 "cells": [
  {
   "cell_type": "code",
   "execution_count": 13,
   "metadata": {},
   "outputs": [],
   "source": [
    "# load libraries\n",
    "import pandas as pd\n",
    "import numpy as np\n",
    "import matplotlib.pyplot as plt\n",
    "from scipy.signal import welch, butter, filtfilt\n",
    "import seaborn as sns\n",
    "import torch\n"
   ]
  },
  {
   "cell_type": "code",
   "execution_count": 3,
   "metadata": {},
   "outputs": [
    {
     "data": {
      "text/plain": [
       "4729"
      ]
     },
     "execution_count": 3,
     "metadata": {},
     "output_type": "execute_result"
    }
   ],
   "source": [
    "from EEGDataset import EEGDataset\n",
    "# Dataset object\n",
    "eeg_dataset = EEGDataset('SynapSee_data.json')\n",
    "len(eeg_dataset)"
   ]
  },
  {
   "cell_type": "code",
   "execution_count": 18,
   "metadata": {},
   "outputs": [],
   "source": [
    "# Initialize lists to store mean EEG signals for each subject and category\n",
    "mean_cat_dani, mean_dog_dani, mean_rabbit_dani, mean_control_dani = [], [], [], []\n",
    "mean_cat_mateo, mean_dog_mateo, mean_rabbit_mateo, mean_control_mateo = [], [], [], []\n",
    "mean_cat_muri, mean_dog_muri, mean_rabbit_muri, mean_control_muri = [], [], [], []\n",
    "mean_cat_pato, mean_dog_pato, mean_rabbit_pato, mean_control_pato = [], [], [], []\n",
    "\n",
    "# Loop through each record in the dataset\n",
    "for record in eeg_dataset:\n",
    "    subject = record['subject']\n",
    "    category = record['class']\n",
    "    eeg_signal = record['eeg_signal']\n",
    "\n",
    "    # Calculate the mean of the EEG signal\n",
    "    mean_signal = torch.mean(eeg_signal, dim=0)\n",
    "\n",
    "    # Append the mean signal to the corresponding list based on subject and category\n",
    "    if subject == 'dani':\n",
    "        if category == 0:\n",
    "            mean_cat_dani.append(mean_signal)\n",
    "        elif category == 1:\n",
    "            mean_dog_dani.append(mean_signal)\n",
    "        elif category == 2:\n",
    "            mean_rabbit_dani.append(mean_signal)\n",
    "        elif category == 3:\n",
    "            mean_control_dani.append(mean_signal)\n",
    "    elif subject == 'mateo':\n",
    "        if category == 0:\n",
    "            mean_cat_mateo.append(mean_signal)\n",
    "        elif category == 1:\n",
    "            mean_dog_mateo.append(mean_signal)\n",
    "        elif category == 2:\n",
    "            mean_rabbit_mateo.append(mean_signal)\n",
    "        elif category == 3:\n",
    "            mean_control_mateo.append(mean_signal)\n",
    "    elif subject == 'muri':\n",
    "        if category == 0:\n",
    "            mean_cat_muri.append(mean_signal)\n",
    "        elif category == 1:\n",
    "            mean_dog_muri.append(mean_signal)\n",
    "        elif category == 2:\n",
    "            mean_rabbit_muri.append(mean_signal)\n",
    "        elif category == 3:\n",
    "            mean_control_muri.append(mean_signal)\n",
    "    elif subject == 'pato':\n",
    "        if category == 0:\n",
    "            mean_cat_pato.append(mean_signal)\n",
    "        elif category == 1:\n",
    "            mean_dog_pato.append(mean_signal)\n",
    "        elif category == 2:\n",
    "            mean_rabbit_pato.append(mean_signal)\n",
    "        elif category == 3:\n",
    "            mean_control_pato.append(mean_signal)\n",
    "\n",
    "# Function to calculate the final mean from a list of tensors\n",
    "def calculate_final_mean(tensor_list):\n",
    "    if tensor_list:\n",
    "        # Stack along a new dimension (here, dimension 0)\n",
    "        stacked_tensor = torch.stack(tensor_list, dim=0)\n",
    "\n",
    "        # Compute the mean across the data points (dimension 1)\n",
    "        return torch.mean(stacked_tensor, dim=1)\n",
    "    else:\n",
    "        return None\n",
    "\n",
    "\n",
    "# Calculate the final mean for each subject and category\n",
    "final_mean_cat_dani = calculate_final_mean(mean_cat_dani)\n",
    "final_mean_dog_dani = calculate_final_mean(mean_dog_dani)\n",
    "final_mean_rabbit_dani = calculate_final_mean(mean_rabbit_dani)\n",
    "final_mean_control_dani = calculate_final_mean(mean_control_dani)\n",
    "\n",
    "final_mean_cat_mateo = calculate_final_mean(mean_cat_mateo)\n",
    "final_mean_dog_mateo = calculate_final_mean(mean_dog_mateo)\n",
    "final_mean_rabbit_mateo = calculate_final_mean(mean_rabbit_mateo)\n",
    "final_mean_control_mateo = calculate_final_mean(mean_control_mateo)\n",
    "\n",
    "final_mean_cat_muri = calculate_final_mean(mean_cat_muri)\n",
    "final_mean_dog_muri = calculate_final_mean(mean_dog_muri)\n",
    "final_mean_rabbit_muri = calculate_final_mean(mean_rabbit_muri)\n",
    "final_mean_control_muri = calculate_final_mean(mean_control_muri)\n",
    "\n",
    "final_mean_cat_pato = calculate_final_mean(mean_cat_pato)\n",
    "final_mean_dog_pato = calculate_final_mean(mean_dog_pato)\n",
    "final_mean_rabbit_pato = calculate_final_mean(mean_rabbit_pato)\n",
    "final_mean_control_pato = calculate_final_mean(mean_control_pato)\n"
   ]
  },
  {
   "cell_type": "code",
   "execution_count": 20,
   "metadata": {},
   "outputs": [
    {
     "data": {
      "text/plain": [
       "torch.Size([299])"
      ]
     },
     "execution_count": 20,
     "metadata": {},
     "output_type": "execute_result"
    }
   ],
   "source": [
    "final_mean_cat_dani.shape"
   ]
  }
 ],
 "metadata": {
  "kernelspec": {
   "display_name": "synapsee",
   "language": "python",
   "name": "python3"
  },
  "language_info": {
   "codemirror_mode": {
    "name": "ipython",
    "version": 3
   },
   "file_extension": ".py",
   "mimetype": "text/x-python",
   "name": "python",
   "nbconvert_exporter": "python",
   "pygments_lexer": "ipython3",
   "version": "3.10.13"
  }
 },
 "nbformat": 4,
 "nbformat_minor": 2
}
